{
 "cells": [
  {
   "cell_type": "code",
   "execution_count": 1,
   "metadata": {},
   "outputs": [],
   "source": [
    "# Performs PCA on the stars of a dataset and saves it into a new dataset containing only the necessary variables for classification\n",
    "import numpy as np\n",
    "from sklearn.decomposition import PCA\n",
    "from sklearn.model_selection import train_test_split"
   ]
  },
  {
   "cell_type": "code",
   "execution_count": 2,
   "metadata": {},
   "outputs": [],
   "source": [
    "# Load the dataset \n",
    "data_path = '/Users/ec270266/Documents/Phd/Euclid/dev/output/psf_dataset/'\n",
    "test_dataset = np.load(data_path + 'test_Euclid_res_20000_TestStars_id_002GT_100_bins.npy', allow_pickle=True)[()]\n",
    "train_dataset = np.load(data_path + 'train_Euclid_res_52000_TrainStars_id_002GT_100_bins.npy', allow_pickle=True)[()]\n",
    "output_path = data_path"
   ]
  },
  {
   "cell_type": "code",
   "execution_count": 3,
   "metadata": {},
   "outputs": [],
   "source": [
    "# Load the stars\n",
    "\n",
    "noiseless_train_stars = train_dataset['stars']\n",
    "noiseless_test_stars = test_dataset['stars']\n",
    "noisy_train_stars = train_dataset['noisy_stars']\n",
    "noisy_test_stars = test_dataset['noisy_stars']"
   ]
  },
  {
   "cell_type": "code",
   "execution_count": 4,
   "metadata": {},
   "outputs": [],
   "source": [
    "def perform_PCA(N_components, fit_selection, *transform_selection):\n",
    "    \"\"\"Performs PCA decomposition on star sets and returns a PCA star sets.\n",
    "\n",
    "    Args:\n",
    "        N_components (int): Number of PCA components to do the analysis.\n",
    "        fit_selection: Star set (in 32x32 float array format) to do the PCA fit.\n",
    "        transform_selection: Variable amount of star sets to do the PCA transform on.\n",
    "        \n",
    "    Returns: \n",
    "        List: Processed PCA star sets.\n",
    "    \"\"\"\n",
    "    pca = PCA(n_components= N_components) \n",
    "    pca.fit(fit_selection.reshape(-1, 1024))\n",
    "\n",
    "    pca_processed_sets = []\n",
    "    for i in range(len(transform_selection)):\n",
    "        pca_processed_sets.append(pca.transform(transform_selection[i].reshape(-1, 1024)))\n",
    "\n",
    "    return pca_processed_sets\n",
    "\n"
   ]
  },
  {
   "cell_type": "code",
   "execution_count": 5,
   "metadata": {},
   "outputs": [],
   "source": [
    "def SEDlisttoC(SED_list):\n",
    "    sed_array = np.array(SED_list)\n",
    "    return sed_array*0.5 + 1.5"
   ]
  },
  {
   "attachments": {},
   "cell_type": "markdown",
   "metadata": {},
   "source": [
    "### Different ways of doing PCA\n",
    "- A: fit and transform both noiseless train and test sets \n",
    "- B: fit and transform both noisy train and test sets\n",
    "- C: fit noiseless train and test sets, transform noisy train and test sets\n",
    "- D: fit and transform both noisy train and test sets with SNR >= 50\n",
    "- E: fit and transform noisy train set, fit and transform noisy test set\n",
    "\n",
    "The chosen method was B."
   ]
  },
  {
   "cell_type": "code",
   "execution_count": 6,
   "metadata": {},
   "outputs": [],
   "source": [
    "# Dataset B\n",
    "\n",
    "fit_selection = np.concatenate((noisy_train_stars, noisy_test_stars), axis = 0)\n",
    "#PCA_components = [12, 15, 18, 21, 24, 27, 30, 33]\n",
    "PCA_components = [24, 30]\n",
    "train_size=len(train_dataset['noisy_stars'])\n",
    "\n",
    "for N_components in PCA_components:\n",
    "   \n",
    "    train_only_stars = False\n",
    "    \n",
    "    if train_only_stars:\n",
    "        fit_selection = train_dataset['noisy_stars']\n",
    "        X, = perform_PCA(N_components, fit_selection, train_dataset['noisy_stars'])\n",
    "        Y = SEDlisttoC(train_dataset['SED_ids'])\n",
    "        Z = train_dataset['SED_ids']\n",
    "        x_train, x_test, y_train, y_test, sed_train, sed_test = train_test_split(X, Y, Z, test_size = int(train_size/2.6), shuffle = False) # Reserve stars for test\n",
    "        x_train, x_val, y_train, y_val, sed_train, sed_val = train_test_split(x_train, y_train, sed_train, test_size = int(train_size/2.6/2.6), shuffle = False) # Reserve stars for validation\n",
    "    else:\n",
    "        x_test,  = perform_PCA(N_components, fit_selection, noisy_test_stars)\n",
    "        y_test = SEDlisttoC(test_dataset['SED_ids'])\n",
    "        sed_test = test_dataset['SED_ids']\n",
    "        x_train, = perform_PCA(N_components, fit_selection, noisy_train_stars)\n",
    "        y_train = SEDlisttoC(train_dataset['SED_ids'])\n",
    "        x_train, x_val, y_train, y_val, sed_train, sed_val = train_test_split(x_train, y_train, train_dataset['SED_ids'],test_size = int(train_size/2.6), shuffle = False) # Reserve stars for validation\n",
    "    \n",
    "    \n",
    "    PCA_dataset = {\n",
    "        'train_stars_pca' : x_train,\n",
    "        'validation_stars_pca' : x_val,\n",
    "        'test_stars_pca' : x_test,\n",
    "        'train_C' : y_train,\n",
    "        'validation_C' : y_val,\n",
    "        'test_C' : y_test,\n",
    "        'train_SEDs': sed_train,\n",
    "        'validation_SEDs' : sed_val,\n",
    "        'test_SEDs' : sed_test,\n",
    "        'N_components' : N_components\n",
    "    }\n",
    "\n",
    "    np.save(\n",
    "        output_path + 'PCA_dataset2B'+ str(N_components)+'.npy',\n",
    "        PCA_dataset,\n",
    "        allow_pickle=True\n",
    "    )"
   ]
  },
  {
   "cell_type": "code",
   "execution_count": 7,
   "metadata": {},
   "outputs": [],
   "source": [
    "import matplotlib.pyplot as plt"
   ]
  },
  {
   "cell_type": "code",
   "execution_count": 8,
   "metadata": {},
   "outputs": [
    {
     "data": {
      "text/plain": [
       "array([2. , 5. , 1.5, 4.5, 5.5, 4. , 2. , 7.5, 6. , 4. ])"
      ]
     },
     "execution_count": 8,
     "metadata": {},
     "output_type": "execute_result"
    }
   ],
   "source": [
    "y_test[:10]"
   ]
  },
  {
   "cell_type": "code",
   "execution_count": 9,
   "metadata": {},
   "outputs": [
    {
     "data": {
      "text/plain": [
       "array([5. , 5. , 2.5, 5.5, 4.5, 7. , 5.5, 6. , 7.5, 6.5])"
      ]
     },
     "execution_count": 9,
     "metadata": {},
     "output_type": "execute_result"
    }
   ],
   "source": [
    "y_train[:10]"
   ]
  },
  {
   "cell_type": "code",
   "execution_count": 10,
   "metadata": {},
   "outputs": [
    {
     "data": {
      "text/plain": [
       "<matplotlib.image.AxesImage at 0x10f8f70d0>"
      ]
     },
     "execution_count": 10,
     "metadata": {},
     "output_type": "execute_result"
    },
    {
     "data": {
      "image/png": "[encoded data removed]",
      "text/plain": [
       "<Figure size 640x480 with 1 Axes>"
      ]
     },
     "metadata": {},
     "output_type": "display_data"
    }
   ],
   "source": [
    "plt.imshow(noisy_test_stars[7], cmap='gist_stern')"
   ]
  },
  {
   "cell_type": "code",
   "execution_count": null,
   "metadata": {},
   "outputs": [],
   "source": []
  }
 ],
 "metadata": {
  "kernelspec": {
   "display_name": "psf",
   "language": "python",
   "name": "python3"
  },
  "language_info": {
   "codemirror_mode": {
    "name": "ipython",
    "version": 3
   },
   "file_extension": ".py",
   "mimetype": "text/x-python",
   "name": "python",
   "nbconvert_exporter": "python",
   "pygments_lexer": "ipython3",
   "version": "3.11.5"
  },
  "orig_nbformat": 4
 },
 "nbformat": 4,
 "nbformat_minor": 2
}
